{
 "cells": [
  {
   "cell_type": "code",
   "execution_count": 13,
   "id": "35ba1335",
   "metadata": {},
   "outputs": [],
   "source": [
    "import numpy as np\n",
    "import pandas as pd\n",
    "import torch\n",
    "import torchvision\n",
    "from torchvision import transforms\n",
    "import torch.utils.data as td\n",
    "from torch.utils.data import DataLoader\n",
    "from torch.utils.data import TensorDataset\n",
    "import math\n",
    "\n",
    "froot = './proseqSimulator'\n",
    "\n",
    "df = pd.read_csv(froot + \".csv\")"
   ]
  },
  {
   "cell_type": "markdown",
   "id": "a68a00bf",
   "metadata": {},
   "source": [
    "Sequences were generated with: ./motifSimulator.py --m CTCF --N 2000 --len 500 --proseq 500,50000 --o proseqSimulator"
   ]
  },
  {
   "cell_type": "code",
   "execution_count": 14,
   "id": "01a0ad60",
   "metadata": {},
   "outputs": [],
   "source": [
    "ALPHABET = 'ACGT'\n",
    "NALPH = len(ALPHABET)\n",
    "INVALPH = [-1] * ord('Z')\n",
    "for i, char in enumerate(ALPHABET):\n",
    "    INVALPH[ord(char)] = i\n",
    "        \n",
    "def seq_to_one_hot(seq):\n",
    "    seqlen = len(seq)\n",
    "    res = np.zeros(NALPH * seqlen, dtype=np.uint8)    \n",
    "    arr = np.array(list(seq))\n",
    "    for j, c in enumerate(arr):\n",
    "        res[NALPH*j + INVALPH[ord(c)]] = 1\n",
    "    return res"
   ]
  },
  {
   "cell_type": "code",
   "execution_count": 15,
   "id": "8c6f71a1",
   "metadata": {
    "scrolled": true
   },
   "outputs": [],
   "source": [
    "# convert to X,Y pairs representing single-column counts (Y) \n",
    "# and corresponding centered 50bp segments of the sequence (X)\n",
    "stride = 5\n",
    "featlen = 50\n",
    "offset = math.ceil(featlen/2)\n",
    "seqlen = len(df['seq'][0])\n",
    "centidx = range(offset, seqlen-offset, stride)\n",
    "\n",
    "j = 0\n",
    "y = np.zeros(len(centidx) * len(df),dtype=np.int16)\n",
    "x = np.zeros((len(centidx)*len(df),4*featlen),dtype=np.uint8)\n",
    "\n",
    "for i in range(len(df)):\n",
    "    allcounts = np.array(df['readCounts'][i].strip('[]').split(),dtype=np.int16)  # better way?\n",
    "    allseq = df['seq'][i]\n",
    "\n",
    "    for r in centidx:\n",
    "        y[j] = allcounts[r]\n",
    "        x[j,:] = seq_to_one_hot(allseq[r-offset:r-offset+featlen])\n",
    "        j += 1"
   ]
  },
  {
   "cell_type": "code",
   "execution_count": 16,
   "id": "a8c60f81",
   "metadata": {},
   "outputs": [],
   "source": [
    "# set them up as tensors\n",
    "xtens = torch.Tensor(x)\n",
    "ytens = torch.Tensor(y)"
   ]
  },
  {
   "cell_type": "code",
   "execution_count": 17,
   "id": "e27f7e03",
   "metadata": {},
   "outputs": [],
   "source": [
    "# split into train, test, and validation sets\n",
    "allset = TensorDataset(xtens, ytens)\n",
    "trnset, valset, tstset = td.random_split(allset, [0.5,0.25,0.25])\n",
    "\n",
    "# set up data loaders\n",
    "trndl = DataLoader(trnset, batch_size=128, shuffle=True)\n",
    "tstdl = DataLoader(tstset, batch_size=128, shuffle=True)\n",
    "valdl = DataLoader(valset, batch_size=128, shuffle=True)"
   ]
  },
  {
   "cell_type": "code",
   "execution_count": 18,
   "id": "2404f7d3",
   "metadata": {},
   "outputs": [
    {
     "name": "stdout",
     "output_type": "stream",
     "text": [
      "Sequential(\n",
      "  (conv1): Conv1d(1, 8, kernel_size=(21,), stride=(1,), padding=(10,))\n",
      "  (relu1): ReLU()\n",
      "  (pool1): MaxPool1d(kernel_size=21, stride=21, padding=0, dilation=1, ceil_mode=False)\n",
      "  (conv2): Conv1d(8, 8, kernel_size=(5,), stride=(1,), padding=(2,))\n",
      "  (relu2): ReLU()\n",
      "  (pool2): MaxPool1d(kernel_size=5, stride=5, padding=0, dilation=1, ceil_mode=False)\n",
      "  (flatten): Flatten(start_dim=1, end_dim=-1)\n",
      "  (linear): Linear(in_features=8, out_features=1, bias=True)\n",
      ")\n",
      "torch.Size([128, 1])\n",
      "Number of parameters: 513\n"
     ]
    }
   ],
   "source": [
    "# set up the model\n",
    "import torch.nn as nn\n",
    "\n",
    "# this model is slightly adapted from an image-processing CNN in \n",
    "#\"Machine Learning with PyTorch and Scikit-Learn\", Raschka et al.\n",
    "model = nn.Sequential()\n",
    "model.add_module(\n",
    "    'conv1',\n",
    "    nn.Conv1d(\n",
    "        in_channels=1, out_channels=8,\n",
    "        kernel_size=21, padding=10\n",
    "    )\n",
    ")\n",
    "model.add_module('relu1', nn.ReLU())\n",
    "model.add_module('pool1', nn.MaxPool1d(kernel_size=21))\n",
    "\n",
    "model.add_module(\n",
    "    'conv2',\n",
    "    nn.Conv1d(\n",
    "        in_channels=8, out_channels=8,\n",
    "        kernel_size=5, padding=2\n",
    "    )\n",
    ")\n",
    "model.add_module('relu2', nn.ReLU())\n",
    "model.add_module('pool2', nn.MaxPool1d(kernel_size=5))\n",
    "\n",
    "model.add_module('flatten', nn.Flatten())\n",
    "model.add_module('linear', nn.Linear(8,1))\n",
    "\n",
    "# check model\n",
    "print(model)\n",
    "\n",
    "x = torch.ones((128,1,200))\n",
    "print(model(x).shape)\n",
    "nparm = sum(p.numel() for p in model.parameters() if p.requires_grad)\n",
    "print(\"Number of parameters: \" + str(nparm))"
   ]
  },
  {
   "cell_type": "code",
   "execution_count": 19,
   "id": "c1976cdc",
   "metadata": {},
   "outputs": [],
   "source": [
    "# custom loss function\n",
    "def my_loss(prediction, label):\n",
    "#    loss = torch.mean((torch.exp(prediction) - label)**2)\n",
    "    \n",
    "    # poisson loss\n",
    "    poismean = torch.exp(prediction)\n",
    "    loss = torch.sum(-1*(-poismean + label*torch.log(poismean)))\n",
    "    \n",
    "    return loss"
   ]
  },
  {
   "cell_type": "code",
   "execution_count": 20,
   "id": "630de192",
   "metadata": {},
   "outputs": [
    {
     "name": "stdout",
     "output_type": "stream",
     "text": [
      "tensor(13879.6133, grad_fn=<SumBackward0>)\n"
     ]
    }
   ],
   "source": [
    "# debug the model\n",
    "xbch, ybch = next(iter(trndl))\n",
    "xsz = xbch.size()[0]\n",
    "xbch_re = torch.reshape(xbch, (xsz, 1, 200))\n",
    "pred = model(xbch_re)\n",
    "\n",
    "print(my_loss(pred, ybch))"
   ]
  },
  {
   "cell_type": "code",
   "execution_count": 21,
   "id": "5c97e087",
   "metadata": {},
   "outputs": [],
   "source": [
    "def train(model, num_epochs, train_dl, valid_dl):\n",
    "    loss_hist_train = [0] * num_epochs\n",
    "    loss_hist_valid = [0] * num_epochs\n",
    "    for epoch in range(num_epochs):\n",
    "        print(f'Epoch {epoch+1}')\n",
    "        model.train()\n",
    "        for x_batch, y_batch in train_dl:\n",
    "            # have to fix dimensionality\n",
    "            x_batch_sz = x_batch.size()[0]\n",
    "            x_batch_re = torch.reshape(x_batch, (x_batch_sz, 1, 200))\n",
    "            pred = model(x_batch_re)    \n",
    "            loss = my_loss(pred, y_batch)\n",
    "            loss.backward()\n",
    "            optimizer.step()\n",
    "            optimizer.zero_grad()\n",
    "            loss_hist_train[epoch] += loss.item()*y_batch.size(0)\n",
    "            \n",
    "        loss_hist_train[epoch] /= len(train_dl.dataset)\n",
    "        \n",
    "        model.eval()\n",
    "        \n",
    "        with torch.no_grad():\n",
    "            for x_batch, y_batch in valid_dl:\n",
    "                # have to fix dimensionality\n",
    "                x_batch_sz = x_batch.size()[0]\n",
    "                x_batch_re = torch.reshape(x_batch, (x_batch_sz, 1, 200))\n",
    "                pred = model(x_batch_re)    \n",
    "                loss = my_loss(pred, y_batch)\n",
    "                loss_hist_valid[epoch] += loss.item()*y_batch.size(0)\n",
    "                \n",
    "            loss_hist_valid[epoch] /= len(valid_dl.dataset)\n",
    "            \n",
    "        print(f'Epoch {epoch+1} trn_loss: '\n",
    "              f'{loss_hist_train[epoch]:.4f} val_loss: '\n",
    "              f'{loss_hist_valid[epoch]:.4f}')\n",
    "        \n",
    "    return loss_hist_train, loss_hist_valid"
   ]
  },
  {
   "cell_type": "code",
   "execution_count": 22,
   "id": "6daa8490",
   "metadata": {},
   "outputs": [
    {
     "name": "stdout",
     "output_type": "stream",
     "text": [
      "Epoch 1\n",
      "Epoch 1 trn_loss: 2491.1259 val_loss: 1736.0019\n",
      "Epoch 2\n",
      "Epoch 2 trn_loss: 2372.2029 val_loss: 1785.7658\n",
      "Epoch 3\n",
      "Epoch 3 trn_loss: 2359.0311 val_loss: 1805.0721\n",
      "Epoch 4\n",
      "Epoch 4 trn_loss: 2338.1486 val_loss: 1743.6646\n",
      "Epoch 5\n",
      "Epoch 5 trn_loss: 2353.3173 val_loss: 1707.1790\n",
      "Epoch 6\n",
      "Epoch 6 trn_loss: 2335.7142 val_loss: 1799.0806\n",
      "Epoch 7\n",
      "Epoch 7 trn_loss: 2313.9147 val_loss: 1703.2649\n",
      "Epoch 8\n",
      "Epoch 8 trn_loss: 2313.6792 val_loss: 1703.2776\n",
      "Epoch 9\n",
      "Epoch 9 trn_loss: 2300.8412 val_loss: 1765.1079\n",
      "Epoch 10\n",
      "Epoch 10 trn_loss: 2302.0450 val_loss: 1691.9772\n",
      "Epoch 11\n",
      "Epoch 11 trn_loss: 2316.4602 val_loss: 1698.3586\n",
      "Epoch 12\n",
      "Epoch 12 trn_loss: 2300.8581 val_loss: 1699.0755\n",
      "Epoch 13\n",
      "Epoch 13 trn_loss: 2298.0421 val_loss: 1708.5188\n",
      "Epoch 14\n",
      "Epoch 14 trn_loss: 2281.2957 val_loss: 1716.7742\n",
      "Epoch 15\n",
      "Epoch 15 trn_loss: 2292.0155 val_loss: 1736.8996\n",
      "Epoch 16\n",
      "Epoch 16 trn_loss: 2307.5026 val_loss: 1701.1357\n",
      "Epoch 17\n",
      "Epoch 17 trn_loss: 2286.5884 val_loss: 1684.3340\n",
      "Epoch 18\n",
      "Epoch 18 trn_loss: 2284.9771 val_loss: 1721.5681\n",
      "Epoch 19\n",
      "Epoch 19 trn_loss: 2281.2785 val_loss: 1698.3944\n",
      "Epoch 20\n",
      "Epoch 20 trn_loss: 2278.7735 val_loss: 1836.7330\n"
     ]
    }
   ],
   "source": [
    "#loss_fn = nn.L1Loss()\n",
    "optimizer = torch.optim.Adam(model.parameters(), lr=0.001)\n",
    "torch.manual_seed(1)\n",
    "num_epochs = 20\n",
    "hist = train(model, num_epochs, trndl, valdl)"
   ]
  },
  {
   "cell_type": "code",
   "execution_count": null,
   "id": "b9772956",
   "metadata": {},
   "outputs": [],
   "source": []
  }
 ],
 "metadata": {
  "kernelspec": {
   "display_name": "Python 3 (ipykernel)",
   "language": "python",
   "name": "python3"
  },
  "language_info": {
   "codemirror_mode": {
    "name": "ipython",
    "version": 3
   },
   "file_extension": ".py",
   "mimetype": "text/x-python",
   "name": "python",
   "nbconvert_exporter": "python",
   "pygments_lexer": "ipython3",
   "version": "3.10.8"
  }
 },
 "nbformat": 4,
 "nbformat_minor": 5
}
